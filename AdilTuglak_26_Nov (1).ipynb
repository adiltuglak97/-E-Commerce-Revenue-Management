{
  "cells": [
    {
      "cell_type": "markdown",
      "id": "6a7d5404",
      "metadata": {
        "id": "6a7d5404"
      },
      "source": [
        "<font color='blue'>\n",
        "    <font size = 5>\n",
        "        You have been given the role of a business analyst for an E-Commerce company and have been asked to prepare a basic report on the data. Follow the steps below for preparation of the report. \n",
        "\n",
        "Before you start analysing the data, it is always a good practice to see the size of the data, its features and feature types. If the data set is big, it is not possible to print out all the records. \n",
        "    </font>\n",
        "####  Note: Use the markdown feature of Python to explain your answer.\n",
        "    "
      ]
    },
    {
      "cell_type": "markdown",
      "id": "daf5d935",
      "metadata": {
        "id": "daf5d935"
      },
      "source": [
        "## Load the necessary libraries. Import and load the dataset with a name ECom_Data ."
      ]
    },
    {
      "cell_type": "code",
      "execution_count": 2,
      "id": "eec2a3b5",
      "metadata": {
        "id": "eec2a3b5"
      },
      "outputs": [],
      "source": [
        "import numpy as np\n",
        "import pandas as pd\n",
        "import matplotlib.pyplot as plt\n",
        "import seaborn as sns\n",
        "pd.options.display.max_rows = 10"
      ]
    },
    {
      "cell_type": "code",
      "source": [
        "from google.colab import drive\n",
        "drive.mount('/content/drive')"
      ],
      "metadata": {
        "colab": {
          "base_uri": "https://localhost:8080/"
        },
        "id": "EAgEx_y_Jms8",
        "outputId": "75a78ba5-b0c3-435b-a983-d5ac22d1b2b1"
      },
      "id": "EAgEx_y_Jms8",
      "execution_count": 3,
      "outputs": [
        {
          "output_type": "stream",
          "name": "stdout",
          "text": [
            "Mounted at /content/drive\n"
          ]
        }
      ]
    },
    {
      "cell_type": "code",
      "execution_count": 4,
      "id": "8e1fcc97",
      "metadata": {
        "id": "8e1fcc97"
      },
      "outputs": [],
      "source": [
        "# Get the Data\n",
        "\n",
        "ECom_Data=pd.read_csv(\"/content/drive/My Drive/python course/data visualization/E-Commerce.csv\")\n"
      ]
    },
    {
      "cell_type": "markdown",
      "id": "2cf5f20f",
      "metadata": {
        "id": "2cf5f20f"
      },
      "source": [
        "<font color='blue'>\n",
        "    <font size = 5>\n",
        "        We have read the data and stored the data in \"ECom_Data\" variable </font>"
      ]
    },
    {
      "cell_type": "markdown",
      "id": "a0a4f84a",
      "metadata": {
        "id": "a0a4f84a"
      },
      "source": [
        "## Q 1.\tTo get familiar with the data\n",
        "## a)\tPrint out the first 10 and the last 10 records of the data. (2 marks)\n",
        "## b)\tHow many rows and columns are present in the dataset? Use any two different methods to extract this information. (2 + 2 + 2 marks)\n",
        "## c)\tHow many object data types are there? (1 mark)\n",
        "## d)\tIs there any Boolean data type? (1 mark) \n",
        "#### Note: Use the markdown feature of Python to explain your answer.\n"
      ]
    },
    {
      "cell_type": "code",
      "execution_count": 5,
      "id": "55ad77c3",
      "metadata": {
        "colab": {
          "base_uri": "https://localhost:8080/"
        },
        "id": "55ad77c3",
        "outputId": "34d20b90-64f6-46e6-c2f5-5311ba36afaa"
      },
      "outputs": [
        {
          "output_type": "stream",
          "name": "stdout",
          "text": [
            "Number of Rows: 8906\n",
            "Number of Columns: 17\n"
          ]
        }
      ],
      "source": [
        "rows = len(ECom_Data.axes[0])\n",
        "cols = len(ECom_Data.axes[1])\n",
        "print(\"Number of Rows: \" + str(rows))\n",
        "print(\"Number of Columns: \" + str(cols))"
      ]
    },
    {
      "cell_type": "markdown",
      "id": "0ba43d74",
      "metadata": {
        "id": "0ba43d74"
      },
      "source": [
        "#### Ans 1 a)"
      ]
    },
    {
      "cell_type": "code",
      "execution_count": 6,
      "id": "6684f5a1",
      "metadata": {
        "colab": {
          "base_uri": "https://localhost:8080/"
        },
        "id": "6684f5a1",
        "outputId": "05411ee7-0bd3-4fa8-ac2f-9da0a6d39ab1"
      },
      "outputs": [
        {
          "output_type": "stream",
          "name": "stdout",
          "text": [
            "First 10 record is:\n",
            "                   Customer_uniq_id Region  Order_Date Expected_Delivery_Date  \\\n",
            "0  e71017e224688489edfe856f2308806d  East   24-10-2021             25-10-2021   \n",
            "1  6286847ee2da18f587503db49511c539  East   24-10-2021             25-10-2021   \n",
            "2  0686fec9b70e5039583a38119ca0c835   West  24-10-2021             25-10-2021   \n",
            "3  ea2406dc597bee2abb6b867fa668501f   West  24-10-2021             25-10-2021   \n",
            "4  5935ed077915347dc695744df68c565c  East   03-09-2021             04-09-2021   \n",
            "5  89fcdddaad50084e395d0928a7426afe  East   03-09-2021             04-09-2021   \n",
            "6  b9b183aa18d3a721d2ac23e7184525b0  East   03-09-2021             04-09-2021   \n",
            "7  dee64864c0419bec80fbbb94d19bc40d  East   03-09-2021             04-09-2021   \n",
            "8  595f55f2c1293f07ea9ec9fa2bb39f46  East   03-09-2021             04-09-2021   \n",
            "9  547b6585272473ae006bcfbdb47b6ae0   West  26-08-2021             27-08-2021   \n",
            "\n",
            "  Delivered_Date                                       product_name  \\\n",
            "0     25-10-2021  Indcrown Net Embroidered Semi-stitched Lehenga...   \n",
            "1     25-10-2021      Shopmania Music Band A5 Notebook Spiral Bound   \n",
            "2     25-10-2021      Shopmania Music Band A5 Notebook Spiral Bound   \n",
            "3     25-10-2021  Tiara Diaries 2016-2017 Designer LA Kaarta \"TA...   \n",
            "4     04-09-2021                KAJCI Embroidered Women's Waistcoat   \n",
            "5     04-09-2021  Packman 8 x 10 inches Security Bags Without PO...   \n",
            "6     04-09-2021          Pick Pocket Embroidered Women's Waistcoat   \n",
            "7     04-09-2021                        Angelfish Silk Potali Potli   \n",
            "8     04-09-2021                                 Oye Boy's Dungaree   \n",
            "9     27-08-2021                                Nuride Canvas Shoes   \n",
            "\n",
            "    product_main_category    product_subcategory    product_category_filter  \\\n",
            "0               Clothing       Women's Clothing                Ethnic Wear    \n",
            "1      Pens & Stationery    Diaries & Notebooks                  Notebooks    \n",
            "2      Pens & Stationery    Diaries & Notebooks                  Notebooks    \n",
            "3      Pens & Stationery    Diaries & Notebooks                  Notebooks    \n",
            "4               Clothing       Women's Clothing                Formal Wear    \n",
            "5      Pens & Stationery        Office Supplies    Packaging Security Bags    \n",
            "6               Clothing       Women's Clothing                Formal Wear    \n",
            "7  Bags, Wallets & Belts                   Bags         Pouches and Potlis    \n",
            "8               Clothing         Kids' Clothing                  Boys Wear    \n",
            "9               Footwear       Women's Footwear               Casual Shoes    \n",
            "\n",
            "          product_category_subfilter product_unique ID  retail_price  \\\n",
            "0                            Fabric   FABEJX2NHNKCYHKA           999   \n",
            "1                          Designer   DIAEJ6Z8BEDTGGYY           499   \n",
            "2                          Designer   DIAEJ6Z8KQFWDEGH           499   \n",
            "3                          Designer   DIAEJ8FGHZ3K86JU          1000   \n",
            "4                        Waistcoats   WSCEG2FYDYFDSVZ6          1200   \n",
            "5   Packman Packaging Security Bags   PKBEGBTRKKHU26YQ           350   \n",
            "6                        Waistcoats   WSCEFUV4TVWT73ZB           899   \n",
            "7      Angelfish Pouches and Potlis   PPSEGFYAGD8FYUXV           999   \n",
            "8             Dungarees & Jumpsuits   DRPEF2XSFBAP4SUZ           899   \n",
            "9                            Canvas   SHOEGVQCT2ZSGUHY          1999   \n",
            "\n",
            "   discounted_price  product_rating          Brand  \\\n",
            "0               699             4.0       Indcrown   \n",
            "1               275             1.0      Shopmania   \n",
            "2               275             2.0      Shopmania   \n",
            "3               837             3.0  Tiara Diaries   \n",
            "4               699             5.0          KAJCI   \n",
            "5               298             4.0        Packman   \n",
            "6               899             1.0    Pick Pocket   \n",
            "7               399             4.0      Angelfish   \n",
            "8               764             1.0            Oye   \n",
            "9              1349             2.0         Nuride   \n",
            "\n",
            "                              product_specifications  \\\n",
            "0  {\"product_specification\"=>[{\"key\"=>\"Fabric\", \"...   \n",
            "1  {\"product_specification\"=>[{\"key\"=>\"Ruling\", \"...   \n",
            "2  {\"product_specification\"=>[{\"key\"=>\"Ruling\", \"...   \n",
            "3  {\"product_specification\"=>[{\"key\"=>\"Ruling\", \"...   \n",
            "4  {\"product_specification\"=>[{\"key\"=>\"Pattern\", ...   \n",
            "5  {\"product_specification\"=>[{\"key\"=>\"Bubble Wra...   \n",
            "6  {\"product_specification\"=>[{\"key\"=>\"Pattern\", ...   \n",
            "7  {\"product_specification\"=>[{\"key\"=>\"Closure\", ...   \n",
            "8  {\"product_specification\"=>[{\"key\"=>\"Number of ...   \n",
            "9  {\"product_specification\"=>[{\"key\"=>\"Occasion\",...   \n",
            "\n",
            "                                         description  \n",
            "0  Key Features of Indcrown Net Embroidered Semi-...  \n",
            "1  Specifications of Shopmania Music Band A5 Note...  \n",
            "2  Specifications of Shopmania Music Band A5 Note...  \n",
            "3  Specifications of Tiara Diaries 2016-2017 Desi...  \n",
            "4  Specifications of KAJCI Embroidered Women's Wa...  \n",
            "5  Key Features of Packman 8 x 10 inches Security...  \n",
            "6  Specifications of Pick Pocket Embroidered Wome...  \n",
            "7  Angelfish Silk Potali Potli (Multicolor) Price...  \n",
            "8  Specifications of Oye Boy's Dungaree Top Detai...  \n",
            "9  Key Features of Nuride Canvas Shoes Material: ...  \n",
            "last 10 record is:\n",
            "                      Customer_uniq_id Region  Order_Date  \\\n",
            "8896  4db03bc4ccbe216cf151b2f2b904ba3f  East   01-12-2020   \n",
            "8897  4d4d6aeb13fa253499d0dd45a5abd87e   West  01-12-2020   \n",
            "8898  ea19e7ef703293d3f6c799ca9db4642d   West  01-12-2020   \n",
            "8899  19a53a958992fb575acffb5d41e7ef9e  East   01-12-2020   \n",
            "8900  09abab80c8dfdc6f268e0a6f05a0be11  North  01-12-2020   \n",
            "8901  90d30478255e23621e8929ed15c2f6e4  South  01-12-2020   \n",
            "8902  20a73e3f41490a73ceeba5f17658db8f   West  01-12-2020   \n",
            "8903  5c1554cd45f9d538c2c6947dbdd59c75  East   01-12-2020   \n",
            "8904  6b737a4deca1ed0e56c179e66036e994   West  01-12-2020   \n",
            "8905  a5235ac28d3d5487f54025f9d6b57433  North  01-12-2020   \n",
            "\n",
            "     Expected_Delivery_Date Delivered_Date  \\\n",
            "8896             04-12-2020     04-12-2020   \n",
            "8897             04-12-2020     04-12-2020   \n",
            "8898             04-12-2020     04-12-2020   \n",
            "8899             04-12-2020     04-12-2020   \n",
            "8900             04-12-2020     04-12-2020   \n",
            "8901             04-12-2020     04-12-2020   \n",
            "8902             04-12-2020     04-12-2020   \n",
            "8903             04-12-2020     04-12-2020   \n",
            "8904             04-12-2020     04-12-2020   \n",
            "8905             04-12-2020     04-12-2020   \n",
            "\n",
            "                                           product_name product_main_category  \\\n",
            "8896                           Luca Fashion Girls Heels             Footwear    \n",
            "8897                            Shoetopia Girls Sandals             Footwear    \n",
            "8898                        SMART TRADERS Girls Sandals             Footwear    \n",
            "8899                                  Beanz Girls Flats             Footwear    \n",
            "8900                       Nova KT 728S Electric Kettle       Home & Kitchen    \n",
            "8901  Sinina Chanderi Embroidered Salwar Suit Dupatt...             Clothing    \n",
            "8902  Aarushi Fashion Chanderi Embroidered Salwar Su...             Clothing    \n",
            "8903  Ambika Lahenga Embroidered Lehenga, Choli and ...             Clothing    \n",
            "8904  Sinina Chanderi Embroidered Salwar Suit Dupatt...             Clothing    \n",
            "8905  Aarushi Fashion Silk Striped Salwar Suit Dupat...             Clothing    \n",
            "\n",
            "            product_subcategory                product_category_filter  \\\n",
            "8896   Kids' & Infant Footwear                              For Girls    \n",
            "8897   Kids' & Infant Footwear                              For Girls    \n",
            "8898   Kids' & Infant Footwear                              For Girls    \n",
            "8899   Kids' & Infant Footwear                              For Girls    \n",
            "8900        Kitchen Appliances    Electric Jug(heater)/Travel Kettles    \n",
            "8901          Women's Clothing                            Ethnic Wear    \n",
            "8902          Women's Clothing                            Ethnic Wear    \n",
            "8903          Women's Clothing                            Ethnic Wear    \n",
            "8904          Women's Clothing                            Ethnic Wear    \n",
            "8905          Women's Clothing                            Ethnic Wear    \n",
            "\n",
            "                      product_category_subfilter product_unique ID  \\\n",
            "8896                                    Sandals   SNDEHG3DNVBFGAT5   \n",
            "8897                                    Sandals   SNDEG7DRWSX8HFXZ   \n",
            "8898                                    Sandals   SNDEG7MZHHKZ58D2   \n",
            "8899                                    Sandals   SNDEG7DYVFWHZBC4   \n",
            "8900   Nova Electric Jug(heater)/Travel Kettles   EKTDG5C5QSADZZ8J   \n",
            "8901                                     Fabric   FABEGGHHDFMY8BZU   \n",
            "8902                                     Fabric   FABEG8GFDUWRSNU3   \n",
            "8903                             Lehenga Cholis   LEHEGGEHYN4G2RPW   \n",
            "8904                                     Fabric   FABEGGHHGSVCHGFV   \n",
            "8905                                     Fabric   FABEG8GYDAABECZH   \n",
            "\n",
            "      retail_price  discounted_price  product_rating            Brand  \\\n",
            "8896           999               499             4.0     Luca Fashion   \n",
            "8897           499               399             4.0        Shoetopia   \n",
            "8898           999               499             5.0    SMART TRADERS   \n",
            "8899          1299              1299             3.0            Beanz   \n",
            "8900          3195               699             3.6             Nova   \n",
            "8901          2980              1490             3.0           Sinina   \n",
            "8902          2600              1300             1.0  Aarushi Fashion   \n",
            "8903         39992             24995             1.0   Ambika Lahenga   \n",
            "8904          2000              1000             3.0           Sinina   \n",
            "8905          2800              1350             4.0  Aarushi Fashion   \n",
            "\n",
            "                                 product_specifications  \\\n",
            "8896  {\"product_specification\"=>[{\"key\"=>\"Occasion\",...   \n",
            "8897  {\"product_specification\"=>[{\"key\"=>\"Ideal For\"...   \n",
            "8898  {\"product_specification\"=>[{\"key\"=>\"Ideal For\"...   \n",
            "8899  {\"product_specification\"=>[{\"key\"=>\"Occasion\",...   \n",
            "8900  {\"product_specification\"=>[{\"key\"=>\"Brand\", \"v...   \n",
            "8901  {\"product_specification\"=>[{\"key\"=>\"Fabric\", \"...   \n",
            "8902  {\"product_specification\"=>[{\"key\"=>\"Fabric\", \"...   \n",
            "8903  {\"product_specification\"=>[{\"key\"=>\"Fabric\", \"...   \n",
            "8904  {\"product_specification\"=>[{\"key\"=>\"Fabric\", \"...   \n",
            "8905  {\"product_specification\"=>[{\"key\"=>\"Fabric\", \"...   \n",
            "\n",
            "                                            description  \n",
            "8896  Key Features of Luca Fashion Girls Heels Occas...  \n",
            "8897  Key Features of Shoetopia Girls Sandals Flats ...  \n",
            "8898  Key Features of SMART TRADERS Girls Sandals Oc...  \n",
            "8899  Key Features of Beanz Girls Flats Occasion: Ca...  \n",
            "8900  Specifications of Nova KT 728S Electric Kettle...  \n",
            "8901  Key Features of Sinina Chanderi Embroidered Sa...  \n",
            "8902  Key Features of Aarushi Fashion Chanderi Embro...  \n",
            "8903  Key Features of Ambika Lahenga Embroidered Leh...  \n",
            "8904  Key Features of Sinina Chanderi Embroidered Sa...  \n",
            "8905  Key Features of Aarushi Fashion Silk Striped S...  \n"
          ]
        }
      ],
      "source": [
        "first_ten=ECom_Data.head(10)\n",
        "print('First 10 record is:')\n",
        "print(first_ten)\n",
        "last_ten=ECom_Data.tail(10)\n",
        "print('last 10 record is:')\n",
        "print(last_ten)"
      ]
    },
    {
      "cell_type": "markdown",
      "id": "48baeda6",
      "metadata": {
        "id": "48baeda6"
      },
      "source": [
        "#### Ans 1 b)"
      ]
    },
    {
      "cell_type": "code",
      "execution_count": 7,
      "id": "0ac3ef5d",
      "metadata": {
        "colab": {
          "base_uri": "https://localhost:8080/"
        },
        "id": "0ac3ef5d",
        "outputId": "6b7e20f4-844d-4a9b-9c5f-be6940b5e5df"
      },
      "outputs": [
        {
          "output_type": "stream",
          "name": "stdout",
          "text": [
            "Number of Rows: 8906\n",
            "Number of Columns: 17\n"
          ]
        }
      ],
      "source": [
        "#First Method\n",
        "rows = len(ECom_Data.axes[0])\n",
        "cols = len(ECom_Data.axes[1])\n",
        "print(\"Number of Rows: \" + str(rows))\n",
        "print(\"Number of Columns: \" + str(cols))"
      ]
    },
    {
      "cell_type": "code",
      "source": [
        "#Second Method\n",
        "ECom_Data.info()"
      ],
      "metadata": {
        "colab": {
          "base_uri": "https://localhost:8080/"
        },
        "id": "z1EjOC1sNQwM",
        "outputId": "8e3830c2-f599-4a23-d3e8-b70afefff13e"
      },
      "id": "z1EjOC1sNQwM",
      "execution_count": 8,
      "outputs": [
        {
          "output_type": "stream",
          "name": "stdout",
          "text": [
            "<class 'pandas.core.frame.DataFrame'>\n",
            "RangeIndex: 8906 entries, 0 to 8905\n",
            "Data columns (total 17 columns):\n",
            " #   Column                      Non-Null Count  Dtype  \n",
            "---  ------                      --------------  -----  \n",
            " 0   Customer_uniq_id            8906 non-null   object \n",
            " 1   Region                      8906 non-null   object \n",
            " 2   Order_Date                  8906 non-null   object \n",
            " 3   Expected_Delivery_Date      8906 non-null   object \n",
            " 4   Delivered_Date              8906 non-null   object \n",
            " 5   product_name                8906 non-null   object \n",
            " 6   product_main_category       8906 non-null   object \n",
            " 7   product_subcategory         8906 non-null   object \n",
            " 8   product_category_filter     8906 non-null   object \n",
            " 9   product_category_subfilter  8906 non-null   object \n",
            " 10  product_unique ID           8906 non-null   object \n",
            " 11  retail_price                8906 non-null   int64  \n",
            " 12  discounted_price            8906 non-null   int64  \n",
            " 13  product_rating              8906 non-null   float64\n",
            " 14  Brand                       8906 non-null   object \n",
            " 15  product_specifications      8906 non-null   object \n",
            " 16  description                 8906 non-null   object \n",
            "dtypes: float64(1), int64(2), object(14)\n",
            "memory usage: 1.2+ MB\n"
          ]
        }
      ]
    },
    {
      "cell_type": "markdown",
      "id": "6aaa54a0",
      "metadata": {
        "id": "6aaa54a0"
      },
      "source": [
        "#### Ans  1 c)"
      ]
    },
    {
      "cell_type": "code",
      "execution_count": null,
      "id": "115627b2",
      "metadata": {
        "id": "115627b2"
      },
      "outputs": [],
      "source": [
        "#There is 14 object type , That we have got from info command."
      ]
    },
    {
      "cell_type": "markdown",
      "id": "5e63573c",
      "metadata": {
        "id": "5e63573c"
      },
      "source": [
        "### Ans 1 d)"
      ]
    },
    {
      "cell_type": "code",
      "execution_count": null,
      "id": "2b96d5be",
      "metadata": {
        "id": "2b96d5be"
      },
      "outputs": [],
      "source": [
        "#NO THERE IS NO BOOL TYPE"
      ]
    },
    {
      "cell_type": "markdown",
      "id": "cc5d76f1",
      "metadata": {
        "id": "cc5d76f1"
      },
      "source": [
        "<font color='blue'>\n",
        "    <font size = 5>\n",
        " Once you are familiar with the data, you may decide that not all features are of use to you and you may want to delete the non-informative features (columns)</font>"
      ]
    },
    {
      "cell_type": "markdown",
      "id": "90db65ce",
      "metadata": {
        "id": "90db65ce"
      },
      "source": [
        "## Q 2.\tEliminating the non-informative columns.\n",
        "## a)\tDrop the columns product_specifications and description. (2 marks) \n",
        "## b)\tWhich method or function is used to permanently delete the columns mentioned in part (a)? Write the code explicitly (2 marks)\n",
        "### Note: Use the markdown feature of Python to explain your answer.\n"
      ]
    },
    {
      "cell_type": "markdown",
      "id": "e0e7e762",
      "metadata": {
        "id": "e0e7e762"
      },
      "source": [
        "### Ans 2 a)"
      ]
    },
    {
      "cell_type": "code",
      "execution_count": 19,
      "id": "35ad0821",
      "metadata": {
        "colab": {
          "base_uri": "https://localhost:8080/",
          "height": 1000
        },
        "id": "35ad0821",
        "outputId": "ae1b1c4a-2417-46ce-b77c-9d03897326b1"
      },
      "outputs": [
        {
          "output_type": "execute_result",
          "data": {
            "text/plain": [
              "                      Customer_uniq_id Region  Order_Date  \\\n",
              "0     e71017e224688489edfe856f2308806d  East   24-10-2021   \n",
              "1     6286847ee2da18f587503db49511c539  East   24-10-2021   \n",
              "2     0686fec9b70e5039583a38119ca0c835   West  24-10-2021   \n",
              "3     ea2406dc597bee2abb6b867fa668501f   West  24-10-2021   \n",
              "4     5935ed077915347dc695744df68c565c  East   03-09-2021   \n",
              "...                                ...    ...         ...   \n",
              "8901  90d30478255e23621e8929ed15c2f6e4  South  01-12-2020   \n",
              "8902  20a73e3f41490a73ceeba5f17658db8f   West  01-12-2020   \n",
              "8903  5c1554cd45f9d538c2c6947dbdd59c75  East   01-12-2020   \n",
              "8904  6b737a4deca1ed0e56c179e66036e994   West  01-12-2020   \n",
              "8905  a5235ac28d3d5487f54025f9d6b57433  North  01-12-2020   \n",
              "\n",
              "     Expected_Delivery_Date Delivered_Date  \\\n",
              "0                25-10-2021     25-10-2021   \n",
              "1                25-10-2021     25-10-2021   \n",
              "2                25-10-2021     25-10-2021   \n",
              "3                25-10-2021     25-10-2021   \n",
              "4                04-09-2021     04-09-2021   \n",
              "...                     ...            ...   \n",
              "8901             04-12-2020     04-12-2020   \n",
              "8902             04-12-2020     04-12-2020   \n",
              "8903             04-12-2020     04-12-2020   \n",
              "8904             04-12-2020     04-12-2020   \n",
              "8905             04-12-2020     04-12-2020   \n",
              "\n",
              "                                           product_name product_main_category  \\\n",
              "0     Indcrown Net Embroidered Semi-stitched Lehenga...             Clothing    \n",
              "1         Shopmania Music Band A5 Notebook Spiral Bound    Pens & Stationery    \n",
              "2         Shopmania Music Band A5 Notebook Spiral Bound    Pens & Stationery    \n",
              "3     Tiara Diaries 2016-2017 Designer LA Kaarta \"TA...    Pens & Stationery    \n",
              "4                   KAJCI Embroidered Women's Waistcoat             Clothing    \n",
              "...                                                 ...                   ...   \n",
              "8901  Sinina Chanderi Embroidered Salwar Suit Dupatt...             Clothing    \n",
              "8902  Aarushi Fashion Chanderi Embroidered Salwar Su...             Clothing    \n",
              "8903  Ambika Lahenga Embroidered Lehenga, Choli and ...             Clothing    \n",
              "8904  Sinina Chanderi Embroidered Salwar Suit Dupatt...             Clothing    \n",
              "8905  Aarushi Fashion Silk Striped Salwar Suit Dupat...             Clothing    \n",
              "\n",
              "        product_subcategory product_category_filter  \\\n",
              "0         Women's Clothing             Ethnic Wear    \n",
              "1      Diaries & Notebooks               Notebooks    \n",
              "2      Diaries & Notebooks               Notebooks    \n",
              "3      Diaries & Notebooks               Notebooks    \n",
              "4         Women's Clothing             Formal Wear    \n",
              "...                     ...                     ...   \n",
              "8901      Women's Clothing             Ethnic Wear    \n",
              "8902      Women's Clothing             Ethnic Wear    \n",
              "8903      Women's Clothing             Ethnic Wear    \n",
              "8904      Women's Clothing             Ethnic Wear    \n",
              "8905      Women's Clothing             Ethnic Wear    \n",
              "\n",
              "     product_category_subfilter product_unique ID  retail_price  \\\n",
              "0                       Fabric   FABEJX2NHNKCYHKA           999   \n",
              "1                     Designer   DIAEJ6Z8BEDTGGYY           499   \n",
              "2                     Designer   DIAEJ6Z8KQFWDEGH           499   \n",
              "3                     Designer   DIAEJ8FGHZ3K86JU          1000   \n",
              "4                   Waistcoats   WSCEG2FYDYFDSVZ6          1200   \n",
              "...                         ...               ...           ...   \n",
              "8901                    Fabric   FABEGGHHDFMY8BZU          2980   \n",
              "8902                    Fabric   FABEG8GFDUWRSNU3          2600   \n",
              "8903            Lehenga Cholis   LEHEGGEHYN4G2RPW         39992   \n",
              "8904                    Fabric   FABEGGHHGSVCHGFV          2000   \n",
              "8905                    Fabric   FABEG8GYDAABECZH          2800   \n",
              "\n",
              "      discounted_price  product_rating            Brand  \n",
              "0                  699             4.0         Indcrown  \n",
              "1                  275             1.0        Shopmania  \n",
              "2                  275             2.0        Shopmania  \n",
              "3                  837             3.0    Tiara Diaries  \n",
              "4                  699             5.0            KAJCI  \n",
              "...                ...             ...              ...  \n",
              "8901              1490             3.0           Sinina  \n",
              "8902              1300             1.0  Aarushi Fashion  \n",
              "8903             24995             1.0   Ambika Lahenga  \n",
              "8904              1000             3.0           Sinina  \n",
              "8905              1350             4.0  Aarushi Fashion  \n",
              "\n",
              "[8906 rows x 15 columns]"
            ],
            "text/html": [
              "\n",
              "  <div id=\"df-91fa7003-3b80-4050-b3df-1626dfdc3570\">\n",
              "    <div class=\"colab-df-container\">\n",
              "      <div>\n",
              "<style scoped>\n",
              "    .dataframe tbody tr th:only-of-type {\n",
              "        vertical-align: middle;\n",
              "    }\n",
              "\n",
              "    .dataframe tbody tr th {\n",
              "        vertical-align: top;\n",
              "    }\n",
              "\n",
              "    .dataframe thead th {\n",
              "        text-align: right;\n",
              "    }\n",
              "</style>\n",
              "<table border=\"1\" class=\"dataframe\">\n",
              "  <thead>\n",
              "    <tr style=\"text-align: right;\">\n",
              "      <th></th>\n",
              "      <th>Customer_uniq_id</th>\n",
              "      <th>Region</th>\n",
              "      <th>Order_Date</th>\n",
              "      <th>Expected_Delivery_Date</th>\n",
              "      <th>Delivered_Date</th>\n",
              "      <th>product_name</th>\n",
              "      <th>product_main_category</th>\n",
              "      <th>product_subcategory</th>\n",
              "      <th>product_category_filter</th>\n",
              "      <th>product_category_subfilter</th>\n",
              "      <th>product_unique ID</th>\n",
              "      <th>retail_price</th>\n",
              "      <th>discounted_price</th>\n",
              "      <th>product_rating</th>\n",
              "      <th>Brand</th>\n",
              "    </tr>\n",
              "  </thead>\n",
              "  <tbody>\n",
              "    <tr>\n",
              "      <th>0</th>\n",
              "      <td>e71017e224688489edfe856f2308806d</td>\n",
              "      <td>East</td>\n",
              "      <td>24-10-2021</td>\n",
              "      <td>25-10-2021</td>\n",
              "      <td>25-10-2021</td>\n",
              "      <td>Indcrown Net Embroidered Semi-stitched Lehenga...</td>\n",
              "      <td>Clothing</td>\n",
              "      <td>Women's Clothing</td>\n",
              "      <td>Ethnic Wear</td>\n",
              "      <td>Fabric</td>\n",
              "      <td>FABEJX2NHNKCYHKA</td>\n",
              "      <td>999</td>\n",
              "      <td>699</td>\n",
              "      <td>4.0</td>\n",
              "      <td>Indcrown</td>\n",
              "    </tr>\n",
              "    <tr>\n",
              "      <th>1</th>\n",
              "      <td>6286847ee2da18f587503db49511c539</td>\n",
              "      <td>East</td>\n",
              "      <td>24-10-2021</td>\n",
              "      <td>25-10-2021</td>\n",
              "      <td>25-10-2021</td>\n",
              "      <td>Shopmania Music Band A5 Notebook Spiral Bound</td>\n",
              "      <td>Pens &amp; Stationery</td>\n",
              "      <td>Diaries &amp; Notebooks</td>\n",
              "      <td>Notebooks</td>\n",
              "      <td>Designer</td>\n",
              "      <td>DIAEJ6Z8BEDTGGYY</td>\n",
              "      <td>499</td>\n",
              "      <td>275</td>\n",
              "      <td>1.0</td>\n",
              "      <td>Shopmania</td>\n",
              "    </tr>\n",
              "    <tr>\n",
              "      <th>2</th>\n",
              "      <td>0686fec9b70e5039583a38119ca0c835</td>\n",
              "      <td>West</td>\n",
              "      <td>24-10-2021</td>\n",
              "      <td>25-10-2021</td>\n",
              "      <td>25-10-2021</td>\n",
              "      <td>Shopmania Music Band A5 Notebook Spiral Bound</td>\n",
              "      <td>Pens &amp; Stationery</td>\n",
              "      <td>Diaries &amp; Notebooks</td>\n",
              "      <td>Notebooks</td>\n",
              "      <td>Designer</td>\n",
              "      <td>DIAEJ6Z8KQFWDEGH</td>\n",
              "      <td>499</td>\n",
              "      <td>275</td>\n",
              "      <td>2.0</td>\n",
              "      <td>Shopmania</td>\n",
              "    </tr>\n",
              "    <tr>\n",
              "      <th>3</th>\n",
              "      <td>ea2406dc597bee2abb6b867fa668501f</td>\n",
              "      <td>West</td>\n",
              "      <td>24-10-2021</td>\n",
              "      <td>25-10-2021</td>\n",
              "      <td>25-10-2021</td>\n",
              "      <td>Tiara Diaries 2016-2017 Designer LA Kaarta \"TA...</td>\n",
              "      <td>Pens &amp; Stationery</td>\n",
              "      <td>Diaries &amp; Notebooks</td>\n",
              "      <td>Notebooks</td>\n",
              "      <td>Designer</td>\n",
              "      <td>DIAEJ8FGHZ3K86JU</td>\n",
              "      <td>1000</td>\n",
              "      <td>837</td>\n",
              "      <td>3.0</td>\n",
              "      <td>Tiara Diaries</td>\n",
              "    </tr>\n",
              "    <tr>\n",
              "      <th>4</th>\n",
              "      <td>5935ed077915347dc695744df68c565c</td>\n",
              "      <td>East</td>\n",
              "      <td>03-09-2021</td>\n",
              "      <td>04-09-2021</td>\n",
              "      <td>04-09-2021</td>\n",
              "      <td>KAJCI Embroidered Women's Waistcoat</td>\n",
              "      <td>Clothing</td>\n",
              "      <td>Women's Clothing</td>\n",
              "      <td>Formal Wear</td>\n",
              "      <td>Waistcoats</td>\n",
              "      <td>WSCEG2FYDYFDSVZ6</td>\n",
              "      <td>1200</td>\n",
              "      <td>699</td>\n",
              "      <td>5.0</td>\n",
              "      <td>KAJCI</td>\n",
              "    </tr>\n",
              "    <tr>\n",
              "      <th>...</th>\n",
              "      <td>...</td>\n",
              "      <td>...</td>\n",
              "      <td>...</td>\n",
              "      <td>...</td>\n",
              "      <td>...</td>\n",
              "      <td>...</td>\n",
              "      <td>...</td>\n",
              "      <td>...</td>\n",
              "      <td>...</td>\n",
              "      <td>...</td>\n",
              "      <td>...</td>\n",
              "      <td>...</td>\n",
              "      <td>...</td>\n",
              "      <td>...</td>\n",
              "      <td>...</td>\n",
              "    </tr>\n",
              "    <tr>\n",
              "      <th>8901</th>\n",
              "      <td>90d30478255e23621e8929ed15c2f6e4</td>\n",
              "      <td>South</td>\n",
              "      <td>01-12-2020</td>\n",
              "      <td>04-12-2020</td>\n",
              "      <td>04-12-2020</td>\n",
              "      <td>Sinina Chanderi Embroidered Salwar Suit Dupatt...</td>\n",
              "      <td>Clothing</td>\n",
              "      <td>Women's Clothing</td>\n",
              "      <td>Ethnic Wear</td>\n",
              "      <td>Fabric</td>\n",
              "      <td>FABEGGHHDFMY8BZU</td>\n",
              "      <td>2980</td>\n",
              "      <td>1490</td>\n",
              "      <td>3.0</td>\n",
              "      <td>Sinina</td>\n",
              "    </tr>\n",
              "    <tr>\n",
              "      <th>8902</th>\n",
              "      <td>20a73e3f41490a73ceeba5f17658db8f</td>\n",
              "      <td>West</td>\n",
              "      <td>01-12-2020</td>\n",
              "      <td>04-12-2020</td>\n",
              "      <td>04-12-2020</td>\n",
              "      <td>Aarushi Fashion Chanderi Embroidered Salwar Su...</td>\n",
              "      <td>Clothing</td>\n",
              "      <td>Women's Clothing</td>\n",
              "      <td>Ethnic Wear</td>\n",
              "      <td>Fabric</td>\n",
              "      <td>FABEG8GFDUWRSNU3</td>\n",
              "      <td>2600</td>\n",
              "      <td>1300</td>\n",
              "      <td>1.0</td>\n",
              "      <td>Aarushi Fashion</td>\n",
              "    </tr>\n",
              "    <tr>\n",
              "      <th>8903</th>\n",
              "      <td>5c1554cd45f9d538c2c6947dbdd59c75</td>\n",
              "      <td>East</td>\n",
              "      <td>01-12-2020</td>\n",
              "      <td>04-12-2020</td>\n",
              "      <td>04-12-2020</td>\n",
              "      <td>Ambika Lahenga Embroidered Lehenga, Choli and ...</td>\n",
              "      <td>Clothing</td>\n",
              "      <td>Women's Clothing</td>\n",
              "      <td>Ethnic Wear</td>\n",
              "      <td>Lehenga Cholis</td>\n",
              "      <td>LEHEGGEHYN4G2RPW</td>\n",
              "      <td>39992</td>\n",
              "      <td>24995</td>\n",
              "      <td>1.0</td>\n",
              "      <td>Ambika Lahenga</td>\n",
              "    </tr>\n",
              "    <tr>\n",
              "      <th>8904</th>\n",
              "      <td>6b737a4deca1ed0e56c179e66036e994</td>\n",
              "      <td>West</td>\n",
              "      <td>01-12-2020</td>\n",
              "      <td>04-12-2020</td>\n",
              "      <td>04-12-2020</td>\n",
              "      <td>Sinina Chanderi Embroidered Salwar Suit Dupatt...</td>\n",
              "      <td>Clothing</td>\n",
              "      <td>Women's Clothing</td>\n",
              "      <td>Ethnic Wear</td>\n",
              "      <td>Fabric</td>\n",
              "      <td>FABEGGHHGSVCHGFV</td>\n",
              "      <td>2000</td>\n",
              "      <td>1000</td>\n",
              "      <td>3.0</td>\n",
              "      <td>Sinina</td>\n",
              "    </tr>\n",
              "    <tr>\n",
              "      <th>8905</th>\n",
              "      <td>a5235ac28d3d5487f54025f9d6b57433</td>\n",
              "      <td>North</td>\n",
              "      <td>01-12-2020</td>\n",
              "      <td>04-12-2020</td>\n",
              "      <td>04-12-2020</td>\n",
              "      <td>Aarushi Fashion Silk Striped Salwar Suit Dupat...</td>\n",
              "      <td>Clothing</td>\n",
              "      <td>Women's Clothing</td>\n",
              "      <td>Ethnic Wear</td>\n",
              "      <td>Fabric</td>\n",
              "      <td>FABEG8GYDAABECZH</td>\n",
              "      <td>2800</td>\n",
              "      <td>1350</td>\n",
              "      <td>4.0</td>\n",
              "      <td>Aarushi Fashion</td>\n",
              "    </tr>\n",
              "  </tbody>\n",
              "</table>\n",
              "<p>8906 rows × 15 columns</p>\n",
              "</div>\n",
              "      <button class=\"colab-df-convert\" onclick=\"convertToInteractive('df-91fa7003-3b80-4050-b3df-1626dfdc3570')\"\n",
              "              title=\"Convert this dataframe to an interactive table.\"\n",
              "              style=\"display:none;\">\n",
              "        \n",
              "  <svg xmlns=\"http://www.w3.org/2000/svg\" height=\"24px\"viewBox=\"0 0 24 24\"\n",
              "       width=\"24px\">\n",
              "    <path d=\"M0 0h24v24H0V0z\" fill=\"none\"/>\n",
              "    <path d=\"M18.56 5.44l.94 2.06.94-2.06 2.06-.94-2.06-.94-.94-2.06-.94 2.06-2.06.94zm-11 1L8.5 8.5l.94-2.06 2.06-.94-2.06-.94L8.5 2.5l-.94 2.06-2.06.94zm10 10l.94 2.06.94-2.06 2.06-.94-2.06-.94-.94-2.06-.94 2.06-2.06.94z\"/><path d=\"M17.41 7.96l-1.37-1.37c-.4-.4-.92-.59-1.43-.59-.52 0-1.04.2-1.43.59L10.3 9.45l-7.72 7.72c-.78.78-.78 2.05 0 2.83L4 21.41c.39.39.9.59 1.41.59.51 0 1.02-.2 1.41-.59l7.78-7.78 2.81-2.81c.8-.78.8-2.07 0-2.86zM5.41 20L4 18.59l7.72-7.72 1.47 1.35L5.41 20z\"/>\n",
              "  </svg>\n",
              "      </button>\n",
              "      \n",
              "  <style>\n",
              "    .colab-df-container {\n",
              "      display:flex;\n",
              "      flex-wrap:wrap;\n",
              "      gap: 12px;\n",
              "    }\n",
              "\n",
              "    .colab-df-convert {\n",
              "      background-color: #E8F0FE;\n",
              "      border: none;\n",
              "      border-radius: 50%;\n",
              "      cursor: pointer;\n",
              "      display: none;\n",
              "      fill: #1967D2;\n",
              "      height: 32px;\n",
              "      padding: 0 0 0 0;\n",
              "      width: 32px;\n",
              "    }\n",
              "\n",
              "    .colab-df-convert:hover {\n",
              "      background-color: #E2EBFA;\n",
              "      box-shadow: 0px 1px 2px rgba(60, 64, 67, 0.3), 0px 1px 3px 1px rgba(60, 64, 67, 0.15);\n",
              "      fill: #174EA6;\n",
              "    }\n",
              "\n",
              "    [theme=dark] .colab-df-convert {\n",
              "      background-color: #3B4455;\n",
              "      fill: #D2E3FC;\n",
              "    }\n",
              "\n",
              "    [theme=dark] .colab-df-convert:hover {\n",
              "      background-color: #434B5C;\n",
              "      box-shadow: 0px 1px 3px 1px rgba(0, 0, 0, 0.15);\n",
              "      filter: drop-shadow(0px 1px 2px rgba(0, 0, 0, 0.3));\n",
              "      fill: #FFFFFF;\n",
              "    }\n",
              "  </style>\n",
              "\n",
              "      <script>\n",
              "        const buttonEl =\n",
              "          document.querySelector('#df-91fa7003-3b80-4050-b3df-1626dfdc3570 button.colab-df-convert');\n",
              "        buttonEl.style.display =\n",
              "          google.colab.kernel.accessAllowed ? 'block' : 'none';\n",
              "\n",
              "        async function convertToInteractive(key) {\n",
              "          const element = document.querySelector('#df-91fa7003-3b80-4050-b3df-1626dfdc3570');\n",
              "          const dataTable =\n",
              "            await google.colab.kernel.invokeFunction('convertToInteractive',\n",
              "                                                     [key], {});\n",
              "          if (!dataTable) return;\n",
              "\n",
              "          const docLinkHtml = 'Like what you see? Visit the ' +\n",
              "            '<a target=\"_blank\" href=https://colab.research.google.com/notebooks/data_table.ipynb>data table notebook</a>'\n",
              "            + ' to learn more about interactive tables.';\n",
              "          element.innerHTML = '';\n",
              "          dataTable['output_type'] = 'display_data';\n",
              "          await google.colab.output.renderOutput(dataTable, element);\n",
              "          const docLink = document.createElement('div');\n",
              "          docLink.innerHTML = docLinkHtml;\n",
              "          element.appendChild(docLink);\n",
              "        }\n",
              "      </script>\n",
              "    </div>\n",
              "  </div>\n",
              "  "
            ]
          },
          "metadata": {},
          "execution_count": 19
        }
      ],
      "source": [
        "ECom_Data.drop(['product_specifications', 'description'], axis=1)"
      ]
    },
    {
      "cell_type": "markdown",
      "id": "e6159f6a",
      "metadata": {
        "id": "e6159f6a"
      },
      "source": [
        "### Ans 2 b)"
      ]
    },
    {
      "cell_type": "code",
      "source": [
        "ECom_Data.drop(['product_specifications', 'description'], axis=1,inplace=True)"
      ],
      "metadata": {
        "id": "HpMSIKFyRFAA"
      },
      "id": "HpMSIKFyRFAA",
      "execution_count": 20,
      "outputs": []
    },
    {
      "cell_type": "code",
      "source": [
        "ECom_Data.head()"
      ],
      "metadata": {
        "colab": {
          "base_uri": "https://localhost:8080/",
          "height": 531
        },
        "id": "nIH3m1siSU48",
        "outputId": "66f80922-b7cc-4bb0-fce1-b9d9d518ffee"
      },
      "id": "nIH3m1siSU48",
      "execution_count": 21,
      "outputs": [
        {
          "output_type": "execute_result",
          "data": {
            "text/plain": [
              "                   Customer_uniq_id Region  Order_Date Expected_Delivery_Date  \\\n",
              "0  e71017e224688489edfe856f2308806d  East   24-10-2021             25-10-2021   \n",
              "1  6286847ee2da18f587503db49511c539  East   24-10-2021             25-10-2021   \n",
              "2  0686fec9b70e5039583a38119ca0c835   West  24-10-2021             25-10-2021   \n",
              "3  ea2406dc597bee2abb6b867fa668501f   West  24-10-2021             25-10-2021   \n",
              "4  5935ed077915347dc695744df68c565c  East   03-09-2021             04-09-2021   \n",
              "\n",
              "  Delivered_Date                                       product_name  \\\n",
              "0     25-10-2021  Indcrown Net Embroidered Semi-stitched Lehenga...   \n",
              "1     25-10-2021      Shopmania Music Band A5 Notebook Spiral Bound   \n",
              "2     25-10-2021      Shopmania Music Band A5 Notebook Spiral Bound   \n",
              "3     25-10-2021  Tiara Diaries 2016-2017 Designer LA Kaarta \"TA...   \n",
              "4     04-09-2021                KAJCI Embroidered Women's Waistcoat   \n",
              "\n",
              "  product_main_category    product_subcategory product_category_filter  \\\n",
              "0             Clothing       Women's Clothing             Ethnic Wear    \n",
              "1    Pens & Stationery    Diaries & Notebooks               Notebooks    \n",
              "2    Pens & Stationery    Diaries & Notebooks               Notebooks    \n",
              "3    Pens & Stationery    Diaries & Notebooks               Notebooks    \n",
              "4             Clothing       Women's Clothing             Formal Wear    \n",
              "\n",
              "  product_category_subfilter product_unique ID  retail_price  \\\n",
              "0                    Fabric   FABEJX2NHNKCYHKA           999   \n",
              "1                  Designer   DIAEJ6Z8BEDTGGYY           499   \n",
              "2                  Designer   DIAEJ6Z8KQFWDEGH           499   \n",
              "3                  Designer   DIAEJ8FGHZ3K86JU          1000   \n",
              "4                Waistcoats   WSCEG2FYDYFDSVZ6          1200   \n",
              "\n",
              "   discounted_price  product_rating          Brand  \n",
              "0               699             4.0       Indcrown  \n",
              "1               275             1.0      Shopmania  \n",
              "2               275             2.0      Shopmania  \n",
              "3               837             3.0  Tiara Diaries  \n",
              "4               699             5.0          KAJCI  "
            ],
            "text/html": [
              "\n",
              "  <div id=\"df-35a370f5-d813-4ec4-91b9-74180aaeddbc\">\n",
              "    <div class=\"colab-df-container\">\n",
              "      <div>\n",
              "<style scoped>\n",
              "    .dataframe tbody tr th:only-of-type {\n",
              "        vertical-align: middle;\n",
              "    }\n",
              "\n",
              "    .dataframe tbody tr th {\n",
              "        vertical-align: top;\n",
              "    }\n",
              "\n",
              "    .dataframe thead th {\n",
              "        text-align: right;\n",
              "    }\n",
              "</style>\n",
              "<table border=\"1\" class=\"dataframe\">\n",
              "  <thead>\n",
              "    <tr style=\"text-align: right;\">\n",
              "      <th></th>\n",
              "      <th>Customer_uniq_id</th>\n",
              "      <th>Region</th>\n",
              "      <th>Order_Date</th>\n",
              "      <th>Expected_Delivery_Date</th>\n",
              "      <th>Delivered_Date</th>\n",
              "      <th>product_name</th>\n",
              "      <th>product_main_category</th>\n",
              "      <th>product_subcategory</th>\n",
              "      <th>product_category_filter</th>\n",
              "      <th>product_category_subfilter</th>\n",
              "      <th>product_unique ID</th>\n",
              "      <th>retail_price</th>\n",
              "      <th>discounted_price</th>\n",
              "      <th>product_rating</th>\n",
              "      <th>Brand</th>\n",
              "    </tr>\n",
              "  </thead>\n",
              "  <tbody>\n",
              "    <tr>\n",
              "      <th>0</th>\n",
              "      <td>e71017e224688489edfe856f2308806d</td>\n",
              "      <td>East</td>\n",
              "      <td>24-10-2021</td>\n",
              "      <td>25-10-2021</td>\n",
              "      <td>25-10-2021</td>\n",
              "      <td>Indcrown Net Embroidered Semi-stitched Lehenga...</td>\n",
              "      <td>Clothing</td>\n",
              "      <td>Women's Clothing</td>\n",
              "      <td>Ethnic Wear</td>\n",
              "      <td>Fabric</td>\n",
              "      <td>FABEJX2NHNKCYHKA</td>\n",
              "      <td>999</td>\n",
              "      <td>699</td>\n",
              "      <td>4.0</td>\n",
              "      <td>Indcrown</td>\n",
              "    </tr>\n",
              "    <tr>\n",
              "      <th>1</th>\n",
              "      <td>6286847ee2da18f587503db49511c539</td>\n",
              "      <td>East</td>\n",
              "      <td>24-10-2021</td>\n",
              "      <td>25-10-2021</td>\n",
              "      <td>25-10-2021</td>\n",
              "      <td>Shopmania Music Band A5 Notebook Spiral Bound</td>\n",
              "      <td>Pens &amp; Stationery</td>\n",
              "      <td>Diaries &amp; Notebooks</td>\n",
              "      <td>Notebooks</td>\n",
              "      <td>Designer</td>\n",
              "      <td>DIAEJ6Z8BEDTGGYY</td>\n",
              "      <td>499</td>\n",
              "      <td>275</td>\n",
              "      <td>1.0</td>\n",
              "      <td>Shopmania</td>\n",
              "    </tr>\n",
              "    <tr>\n",
              "      <th>2</th>\n",
              "      <td>0686fec9b70e5039583a38119ca0c835</td>\n",
              "      <td>West</td>\n",
              "      <td>24-10-2021</td>\n",
              "      <td>25-10-2021</td>\n",
              "      <td>25-10-2021</td>\n",
              "      <td>Shopmania Music Band A5 Notebook Spiral Bound</td>\n",
              "      <td>Pens &amp; Stationery</td>\n",
              "      <td>Diaries &amp; Notebooks</td>\n",
              "      <td>Notebooks</td>\n",
              "      <td>Designer</td>\n",
              "      <td>DIAEJ6Z8KQFWDEGH</td>\n",
              "      <td>499</td>\n",
              "      <td>275</td>\n",
              "      <td>2.0</td>\n",
              "      <td>Shopmania</td>\n",
              "    </tr>\n",
              "    <tr>\n",
              "      <th>3</th>\n",
              "      <td>ea2406dc597bee2abb6b867fa668501f</td>\n",
              "      <td>West</td>\n",
              "      <td>24-10-2021</td>\n",
              "      <td>25-10-2021</td>\n",
              "      <td>25-10-2021</td>\n",
              "      <td>Tiara Diaries 2016-2017 Designer LA Kaarta \"TA...</td>\n",
              "      <td>Pens &amp; Stationery</td>\n",
              "      <td>Diaries &amp; Notebooks</td>\n",
              "      <td>Notebooks</td>\n",
              "      <td>Designer</td>\n",
              "      <td>DIAEJ8FGHZ3K86JU</td>\n",
              "      <td>1000</td>\n",
              "      <td>837</td>\n",
              "      <td>3.0</td>\n",
              "      <td>Tiara Diaries</td>\n",
              "    </tr>\n",
              "    <tr>\n",
              "      <th>4</th>\n",
              "      <td>5935ed077915347dc695744df68c565c</td>\n",
              "      <td>East</td>\n",
              "      <td>03-09-2021</td>\n",
              "      <td>04-09-2021</td>\n",
              "      <td>04-09-2021</td>\n",
              "      <td>KAJCI Embroidered Women's Waistcoat</td>\n",
              "      <td>Clothing</td>\n",
              "      <td>Women's Clothing</td>\n",
              "      <td>Formal Wear</td>\n",
              "      <td>Waistcoats</td>\n",
              "      <td>WSCEG2FYDYFDSVZ6</td>\n",
              "      <td>1200</td>\n",
              "      <td>699</td>\n",
              "      <td>5.0</td>\n",
              "      <td>KAJCI</td>\n",
              "    </tr>\n",
              "  </tbody>\n",
              "</table>\n",
              "</div>\n",
              "      <button class=\"colab-df-convert\" onclick=\"convertToInteractive('df-35a370f5-d813-4ec4-91b9-74180aaeddbc')\"\n",
              "              title=\"Convert this dataframe to an interactive table.\"\n",
              "              style=\"display:none;\">\n",
              "        \n",
              "  <svg xmlns=\"http://www.w3.org/2000/svg\" height=\"24px\"viewBox=\"0 0 24 24\"\n",
              "       width=\"24px\">\n",
              "    <path d=\"M0 0h24v24H0V0z\" fill=\"none\"/>\n",
              "    <path d=\"M18.56 5.44l.94 2.06.94-2.06 2.06-.94-2.06-.94-.94-2.06-.94 2.06-2.06.94zm-11 1L8.5 8.5l.94-2.06 2.06-.94-2.06-.94L8.5 2.5l-.94 2.06-2.06.94zm10 10l.94 2.06.94-2.06 2.06-.94-2.06-.94-.94-2.06-.94 2.06-2.06.94z\"/><path d=\"M17.41 7.96l-1.37-1.37c-.4-.4-.92-.59-1.43-.59-.52 0-1.04.2-1.43.59L10.3 9.45l-7.72 7.72c-.78.78-.78 2.05 0 2.83L4 21.41c.39.39.9.59 1.41.59.51 0 1.02-.2 1.41-.59l7.78-7.78 2.81-2.81c.8-.78.8-2.07 0-2.86zM5.41 20L4 18.59l7.72-7.72 1.47 1.35L5.41 20z\"/>\n",
              "  </svg>\n",
              "      </button>\n",
              "      \n",
              "  <style>\n",
              "    .colab-df-container {\n",
              "      display:flex;\n",
              "      flex-wrap:wrap;\n",
              "      gap: 12px;\n",
              "    }\n",
              "\n",
              "    .colab-df-convert {\n",
              "      background-color: #E8F0FE;\n",
              "      border: none;\n",
              "      border-radius: 50%;\n",
              "      cursor: pointer;\n",
              "      display: none;\n",
              "      fill: #1967D2;\n",
              "      height: 32px;\n",
              "      padding: 0 0 0 0;\n",
              "      width: 32px;\n",
              "    }\n",
              "\n",
              "    .colab-df-convert:hover {\n",
              "      background-color: #E2EBFA;\n",
              "      box-shadow: 0px 1px 2px rgba(60, 64, 67, 0.3), 0px 1px 3px 1px rgba(60, 64, 67, 0.15);\n",
              "      fill: #174EA6;\n",
              "    }\n",
              "\n",
              "    [theme=dark] .colab-df-convert {\n",
              "      background-color: #3B4455;\n",
              "      fill: #D2E3FC;\n",
              "    }\n",
              "\n",
              "    [theme=dark] .colab-df-convert:hover {\n",
              "      background-color: #434B5C;\n",
              "      box-shadow: 0px 1px 3px 1px rgba(0, 0, 0, 0.15);\n",
              "      filter: drop-shadow(0px 1px 2px rgba(0, 0, 0, 0.3));\n",
              "      fill: #FFFFFF;\n",
              "    }\n",
              "  </style>\n",
              "\n",
              "      <script>\n",
              "        const buttonEl =\n",
              "          document.querySelector('#df-35a370f5-d813-4ec4-91b9-74180aaeddbc button.colab-df-convert');\n",
              "        buttonEl.style.display =\n",
              "          google.colab.kernel.accessAllowed ? 'block' : 'none';\n",
              "\n",
              "        async function convertToInteractive(key) {\n",
              "          const element = document.querySelector('#df-35a370f5-d813-4ec4-91b9-74180aaeddbc');\n",
              "          const dataTable =\n",
              "            await google.colab.kernel.invokeFunction('convertToInteractive',\n",
              "                                                     [key], {});\n",
              "          if (!dataTable) return;\n",
              "\n",
              "          const docLinkHtml = 'Like what you see? Visit the ' +\n",
              "            '<a target=\"_blank\" href=https://colab.research.google.com/notebooks/data_table.ipynb>data table notebook</a>'\n",
              "            + ' to learn more about interactive tables.';\n",
              "          element.innerHTML = '';\n",
              "          dataTable['output_type'] = 'display_data';\n",
              "          await google.colab.output.renderOutput(dataTable, element);\n",
              "          const docLink = document.createElement('div');\n",
              "          docLink.innerHTML = docLinkHtml;\n",
              "          element.appendChild(docLink);\n",
              "        }\n",
              "      </script>\n",
              "    </div>\n",
              "  </div>\n",
              "  "
            ]
          },
          "metadata": {},
          "execution_count": 21
        }
      ]
    },
    {
      "cell_type": "markdown",
      "id": "cde421e0",
      "metadata": {
        "id": "cde421e0"
      },
      "source": [
        "<font color='blue'>\n",
        "    <font size = 5>\n",
        "        The next steps in this project involves summarization of data at various levels and visualization. Apparently, such simple steps are very useful to get an overall sense of the data.\n",
        "    </font>"
      ]
    },
    {
      "cell_type": "markdown",
      "id": "41c30ad7",
      "metadata": {
        "id": "41c30ad7"
      },
      "source": [
        "## Q 3. Here we summarize the data at Brand level.\n",
        "## a) How many unique Brand are there? (2 marks)\n",
        "## b) Note that each Brand contains multiple products. Show the average product_rating within each Brand (2 marks)\n"
      ]
    },
    {
      "cell_type": "markdown",
      "id": "beb3f83f",
      "metadata": {
        "id": "beb3f83f"
      },
      "source": [
        "### Ans 3 a)"
      ]
    },
    {
      "cell_type": "code",
      "execution_count": 26,
      "id": "41dcb79f",
      "metadata": {
        "colab": {
          "base_uri": "https://localhost:8080/"
        },
        "id": "41dcb79f",
        "outputId": "1ba9a6a5-9372-4494-a976-68b3ad912e30"
      },
      "outputs": [
        {
          "output_type": "execute_result",
          "data": {
            "text/plain": [
              "2571"
            ]
          },
          "metadata": {},
          "execution_count": 26
        }
      ],
      "source": [
        "ECom_Data.Brand.nunique(dropna=True)"
      ]
    },
    {
      "cell_type": "markdown",
      "id": "5083d866",
      "metadata": {
        "id": "5083d866"
      },
      "source": [
        "### Ans 3 b)"
      ]
    },
    {
      "cell_type": "code",
      "execution_count": 27,
      "id": "10018c2c",
      "metadata": {
        "colab": {
          "base_uri": "https://localhost:8080/"
        },
        "id": "10018c2c",
        "outputId": "c69c875a-85ef-4725-fc56-f4e6f0e83a80"
      },
      "outputs": [
        {
          "output_type": "execute_result",
          "data": {
            "text/plain": [
              "Brand\n",
              "1OAK            1.500000\n",
              "3A AUTOCARE     3.268293\n",
              "3D Mat          3.000000\n",
              "3kFactory       2.000000\n",
              "4D              3.600000\n",
              "                  ...   \n",
              "youniqueshop    2.000000\n",
              "zDelhi.com      5.000000\n",
              "zaidis          4.000000\n",
              "zasmina         4.500000\n",
              " Tarkan         5.000000\n",
              "Name: product_rating, Length: 2571, dtype: float64"
            ]
          },
          "metadata": {},
          "execution_count": 27
        }
      ],
      "source": [
        "ECom_Data.groupby(['Brand'])['product_rating'].mean()"
      ]
    },
    {
      "cell_type": "markdown",
      "id": "bbf162af",
      "metadata": {
        "id": "bbf162af"
      },
      "source": [
        "## Q 4. Next we study the main categories of the products.\n",
        "\n",
        "## a) Create an appropriate plot to show the count of items ordered for each product_main_category. (6 marks).\n",
        "\n",
        "### Hint: Create a bar chart titled \"Product Category type\" where product_main_category are on x-axis and counts are on y-axis.\n",
        "\n",
        "### Note: Both axis labels, i.e. the names of the product_main_category and counts must be clearly legible. \n",
        "\n",
        "## b) From the plot identify for which two product_main_category(s)  maximum and minimum orders were placed. (2 marks)\n",
        "\n",
        "## c) Write code to print out the top 5 product_main_category(s)  in descending order? (3 marks"
      ]
    },
    {
      "cell_type": "code",
      "execution_count": null,
      "id": "5c65c13f",
      "metadata": {
        "id": "5c65c13f"
      },
      "outputs": [],
      "source": []
    },
    {
      "cell_type": "markdown",
      "id": "36c72928",
      "metadata": {
        "id": "36c72928"
      },
      "source": [
        "### Ans 4 a)"
      ]
    },
    {
      "cell_type": "code",
      "execution_count": 34,
      "id": "f60dd2c1",
      "metadata": {
        "colab": {
          "base_uri": "https://localhost:8080/",
          "height": 860
        },
        "id": "f60dd2c1",
        "outputId": "ac179a89-2f25-482b-8d22-090933c8f9e6"
      },
      "outputs": [
        {
          "output_type": "display_data",
          "data": {
            "text/plain": [
              "<Figure size 3600x1008 with 1 Axes>"
            ],
            "image/png": "[encoded data removed]"
          },
          "metadata": {
            "needs_background": "light"
          }
        }
      ],
      "source": [
        "plt.figure(figsize=(50,14))\n",
        "plt.title('Barplot:Product Category type')\n",
        "sns.countplot(x = 'product_main_category', data = ECom_Data);\n",
        "plt.xlabel('product_main_category');"
      ]
    },
    {
      "cell_type": "markdown",
      "id": "13a5b355",
      "metadata": {
        "id": "13a5b355"
      },
      "source": [
        "### Ans 4 b)"
      ]
    },
    {
      "cell_type": "code",
      "execution_count": null,
      "id": "24d3f75c",
      "metadata": {
        "id": "24d3f75c"
      },
      "outputs": [],
      "source": [
        "#According to Plot Clothing category having max orders is placed and Wearable smart devices having minimum number order placed."
      ]
    },
    {
      "cell_type": "markdown",
      "source": [
        "According to Plot Clothing category having max orders is placed and Wearable smart devices having minimum number order placed."
      ],
      "metadata": {
        "id": "A5dh2nr5Y6MA"
      },
      "id": "A5dh2nr5Y6MA"
    },
    {
      "cell_type": "markdown",
      "id": "4ea60c92",
      "metadata": {
        "id": "4ea60c92"
      },
      "source": [
        "### Ans 4 c)"
      ]
    },
    {
      "cell_type": "code",
      "execution_count": 39,
      "id": "7f704116",
      "metadata": {
        "id": "7f704116"
      },
      "outputs": [],
      "source": [
        "ECom_Data1 = ECom_Data['product_main_category'].value_counts(ascending=False)"
      ]
    },
    {
      "cell_type": "code",
      "source": [
        "print(ECom_Data1.head(5))"
      ],
      "metadata": {
        "colab": {
          "base_uri": "https://localhost:8080/"
        },
        "id": "J9COKm0aequd",
        "outputId": "89e95ec4-d047-462e-9919-b01e4a5a967d"
      },
      "id": "J9COKm0aequd",
      "execution_count": 41,
      "outputs": [
        {
          "output_type": "stream",
          "name": "stdout",
          "text": [
            "Clothing                       2943\n",
            "Mobiles & Accessories          1084\n",
            "Automotive                     1001\n",
            "Home Decor & Festive Needs      727\n",
            "Computers                       558\n",
            "Name: product_main_category, dtype: int64\n"
          ]
        }
      ]
    },
    {
      "cell_type": "markdown",
      "id": "a9f81605",
      "metadata": {
        "id": "a9f81605"
      },
      "source": [
        "<font color='blue'>\n",
        "    <font size = 5>\n",
        "    In E-commerce, both the retailers (here brands) and the company have to make profit to sustain in the business. \n",
        "    The E-Commerce company has the following rule for computing their own revenue: </font> \n",
        "    \n",
        "####     The company charges  \n",
        "####  (i) 25% on the orders having final price (discounted price) greater than 600\n",
        "\n",
        "#### (ii) 15% on the orders having final price (discounted price) greater than 350 but less than or equal to 600\n",
        "\n",
        "#### (iii) 10% on the orders having final price (discounted price) greater than 100 but less than or equal to 350\n",
        "\n",
        "#### (iv) Otherwise, 5% on the final price (discounted price)    </font> "
      ]
    },
    {
      "cell_type": "markdown",
      "id": "0f255fea",
      "metadata": {
        "id": "0f255fea"
      },
      "source": [
        "## Q 5. Find the Total Revenue generated by the E-Commerce company over all orders placed. (6 marks)\n",
        "\n",
        "#### Hint: Calculate revenue of E-commerce company using the conditions mentioned above and then do the total (sum) of all to get total Revenue. "
      ]
    },
    {
      "cell_type": "markdown",
      "id": "1f6b8028",
      "metadata": {
        "id": "1f6b8028"
      },
      "source": [
        "### Ans 5"
      ]
    },
    {
      "cell_type": "code",
      "execution_count": 8,
      "id": "c62d888f",
      "metadata": {
        "colab": {
          "base_uri": "https://localhost:8080/"
        },
        "id": "c62d888f",
        "outputId": "745ac0bc-3506-46aa-a1e8-6dc506494225"
      },
      "outputs": [
        {
          "output_type": "stream",
          "name": "stdout",
          "text": [
            "Total revenue of E-commerce company is  :2217486.85000005units\n"
          ]
        }
      ],
      "source": [
        "total_revenue=0\n",
        "for x in ECom_Data['discounted_price']:\n",
        " if x>600:\n",
        "  total_revenue=total_revenue+0.25*x\n",
        " elif x>350 and x<=600:\n",
        "  total_revenue=total_revenue+0.15*x\n",
        " elif x>100 and x<=350:\n",
        "  total_revenue=total_revenue+0.1*x\n",
        " else:\n",
        "  total_revenue=total_revenue+0.05*x\n",
        "print('Total revenue of E-commerce company is  :',total_revenue,'units',sep='')"
      ]
    },
    {
      "cell_type": "markdown",
      "id": "9161ca8c",
      "metadata": {
        "id": "9161ca8c"
      },
      "source": [
        "<font color='blue'>\n",
        "    <font size = 5>\n",
        "    Now you need to find the revenue for each retailer (Brand)\n",
        "    </font>"
      ]
    },
    {
      "cell_type": "markdown",
      "id": "73dd23c3",
      "metadata": {
        "id": "73dd23c3"
      },
      "source": [
        "## Q6.Calculate the total BrandRevenue and list the top 10 Brand having maximum revenue in descending order (6 marks)\n",
        "#### Hint: Total BrandRevenue is BrandRevenue which is generated after all the deductions. Also, BrandRevenue is different from the E-Commerce company's revenue.\n",
        "#### Brand Revenue is the discounted price minus the Revenue (generated using the conditions given above Q5)\n"
      ]
    },
    {
      "cell_type": "markdown",
      "id": "3514fa79",
      "metadata": {
        "id": "3514fa79"
      },
      "source": [
        "### Ans 6"
      ]
    },
    {
      "cell_type": "code",
      "execution_count": 15,
      "id": "437c69b5",
      "metadata": {
        "colab": {
          "base_uri": "https://localhost:8080/"
        },
        "id": "437c69b5",
        "outputId": "c3f83c0c-0c70-48b8-db92-de0a637d1b47"
      },
      "outputs": [
        {
          "output_type": "stream",
          "name": "stdout",
          "text": [
            "Total brand revenue:7522992.15units\n"
          ]
        },
        {
          "output_type": "execute_result",
          "data": {
            "text/plain": [
              "Brand\n",
              "Allure Auto     498464.25\n",
              "GAGA            237390.00\n",
              "Slim            212062.60\n",
              "DailyObjects    181980.00\n",
              "Diviniti        143115.00\n",
              "Regular         126112.35\n",
              "Enthopia        123146.25\n",
              "TheLostPuppy    116595.35\n",
              "Asus             99241.50\n",
              "Springwel        88978.50\n",
              "Name: Brand_revenue, dtype: float64"
            ]
          },
          "metadata": {},
          "execution_count": 15
        }
      ],
      "source": [
        "def deductions(x):\n",
        "  if x>600:\n",
        "    shared_revenue=x-0.25*x\n",
        "  elif x>350 and x<=600:\n",
        "    shared_revenue=x-0.15*x\n",
        "  elif x>100 and x<=350:\n",
        "    shared_revenue=x-0.1*x\n",
        "  else:\n",
        "    shared_revenue=x-0.05*x\n",
        "  return shared_revenue\n",
        "\n",
        "ECom_Data['Brand_revenue']=ECom_Data['discounted_price'].apply(deductions)\n",
        "Brand_Data=ECom_Data.groupby(['Brand'])['Brand_revenue'].sum()\n",
        "Brand_Data.sort_values(ascending=False,inplace=True)\n",
        "Total_Brand_value=ECom_Data['Brand_revenue'].sum()\n",
        "print('Total brand revenue:',Total_Brand_value,'units',sep='')\n",
        "Brand_Data[:10]"
      ]
    },
    {
      "cell_type": "markdown",
      "id": "2a2bbd83",
      "metadata": {
        "id": "2a2bbd83"
      },
      "source": [
        "<font color='blue'>\n",
        "    <font size = 5>\n",
        "Let us now investigate multiple features for each product to determine any pattern.\n",
        "</font>"
      ]
    },
    {
      "cell_type": "markdown",
      "id": "1aa1834b",
      "metadata": {
        "id": "1aa1834b"
      },
      "source": [
        "## Q 7. Compare prices for each product.\n",
        "\n",
        "## a)\tDraw boxplots of retail_price & discounted_price. (3 marks)\n",
        "\n",
        "## b)\t Are there any outliers? (Yes/No) (1mark)\n",
        "\n",
        "## c)\tCreate a scatterplot of retail_price (x-axis) and discounted_price (y-axis) (3 marks)\n"
      ]
    },
    {
      "cell_type": "markdown",
      "id": "d5aae861",
      "metadata": {
        "id": "d5aae861"
      },
      "source": [
        "### Ans 7 a)"
      ]
    },
    {
      "cell_type": "code",
      "execution_count": 11,
      "id": "510fd4d0",
      "metadata": {
        "colab": {
          "base_uri": "https://localhost:8080/",
          "height": 443
        },
        "id": "510fd4d0",
        "outputId": "4e899e19-d3e1-43d4-afcd-42c05a93aed3"
      },
      "outputs": [
        {
          "output_type": "display_data",
          "data": {
            "text/plain": [
              "<Figure size 1440x504 with 1 Axes>"
            ],
            "image/png": "[encoded data removed]"
          },
          "metadata": {
            "needs_background": "light"
          }
        }
      ],
      "source": [
        "plt.figure(figsize=(20,7))\n",
        "sns.boxplot(data=ECom_Data,x='retail_price');"
      ]
    },
    {
      "cell_type": "code",
      "source": [
        "plt.figure(figsize=(20,7))\n",
        "sns.boxplot(data=ECom_Data,x='discounted_price');"
      ],
      "metadata": {
        "colab": {
          "base_uri": "https://localhost:8080/",
          "height": 443
        },
        "id": "6k5Z9AViEhHr",
        "outputId": "bba62a19-9e91-4a3c-f4a5-334d3db5fdf7"
      },
      "id": "6k5Z9AViEhHr",
      "execution_count": 12,
      "outputs": [
        {
          "output_type": "display_data",
          "data": {
            "text/plain": [
              "<Figure size 1440x504 with 1 Axes>"
            ],
            "image/png": "[encoded data removed]"
          },
          "metadata": {
            "needs_background": "light"
          }
        }
      ]
    },
    {
      "cell_type": "markdown",
      "id": "78b92e7c",
      "metadata": {
        "id": "78b92e7c"
      },
      "source": [
        "### Ans 7 b)"
      ]
    },
    {
      "cell_type": "code",
      "execution_count": null,
      "id": "0af7c034",
      "metadata": {
        "id": "0af7c034"
      },
      "outputs": [],
      "source": [
        "#YES"
      ]
    },
    {
      "cell_type": "markdown",
      "id": "0389c9b8",
      "metadata": {
        "id": "0389c9b8"
      },
      "source": [
        "### Ans 7 c)"
      ]
    },
    {
      "cell_type": "code",
      "execution_count": 13,
      "id": "d8c44be9",
      "metadata": {
        "colab": {
          "base_uri": "https://localhost:8080/",
          "height": 281
        },
        "id": "d8c44be9",
        "outputId": "e823d50d-6176-475e-c626-20852fcf870d"
      },
      "outputs": [
        {
          "output_type": "display_data",
          "data": {
            "text/plain": [
              "<Figure size 432x288 with 1 Axes>"
            ],
            "image/png": "[encoded data removed]"
          },
          "metadata": {
            "needs_background": "light"
          }
        }
      ],
      "source": [
        "sns.scatterplot(data=ECom_Data,x='retail_price',y='discounted_price');"
      ]
    },
    {
      "cell_type": "markdown",
      "id": "3bc47f55",
      "metadata": {
        "id": "3bc47f55"
      },
      "source": [
        "<font color='blue'>\n",
        "    <font size = 5>\n",
        "    The next steps will enable to study brand-level information.\n",
        "    </font>"
      ]
    },
    {
      "cell_type": "markdown",
      "id": "b9bd00f7",
      "metadata": {
        "id": "b9bd00f7"
      },
      "source": [
        "## Q 8. Create a new dataframe to include the Brand specific information as stated:\n",
        "## i.\ttotal number of orders placed per Brand\n",
        "## ii.\ttotal retail_price per Brand\n",
        "## iii.\ttotal discounted_price per Brand, and \n",
        "## iv.\ttotal BrandRevenue generated per Brand. \n",
        "\n",
        "## Also, draw a pairplot using these four features. (6 marks)\n"
      ]
    },
    {
      "cell_type": "markdown",
      "id": "8f83cea9",
      "metadata": {
        "id": "8f83cea9"
      },
      "source": [
        "### Ans 8"
      ]
    },
    {
      "cell_type": "code",
      "source": [
        "ECom_Data.head()"
      ],
      "metadata": {
        "id": "D1Mb5TiMMFUY"
      },
      "id": "D1Mb5TiMMFUY",
      "execution_count": null,
      "outputs": []
    },
    {
      "cell_type": "code",
      "source": [
        "Orders=ECom_Data['Brand'].value_counts()\n",
        "retail_price=ECom_Data.groupby(['Brand'])['retail_price'].sum()\n",
        "discounted_price=ECom_Data.groupby(['Brand'])['discounted_price'].sum()\n",
        "Brand_revenue=ECom_Data.groupby(['Brand'])['Brand_revenue'].sum()\n",
        "Brand_Data=pd.DataFrame({'Orders':Orders,'retail_price':retail_price,'discounted_price':discounted_price,'brand_revenue':Brand_revenue})\n",
        "Brand_Data.reset_index()"
      ],
      "metadata": {
        "colab": {
          "base_uri": "https://localhost:8080/",
          "height": 424
        },
        "id": "xyooHMyRM9AO",
        "outputId": "55738477-14a6-405b-f94b-6996298c8e7e"
      },
      "id": "xyooHMyRM9AO",
      "execution_count": 18,
      "outputs": [
        {
          "output_type": "execute_result",
          "data": {
            "text/plain": [
              "             index  Orders  retail_price  discounted_price  brand_revenue\n",
              "0             1OAK       2          1698              1274        1015.40\n",
              "1      3A AUTOCARE      41        107059             74134       55647.90\n",
              "2           3D Mat       1          7250              6999        5249.25\n",
              "3        3kFactory       1           399               174         156.60\n",
              "4               4D       5         17500              7948        5961.00\n",
              "...            ...     ...           ...               ...            ...\n",
              "2566  youniqueshop       1           810               640         480.00\n",
              "2567    zDelhi.com       1          4499              3999        2999.25\n",
              "2568        zaidis       1           150               129         116.10\n",
              "2569       zasmina       2          1400               639         575.10\n",
              "2570        Tarkan       1          1999               349         314.10\n",
              "\n",
              "[2571 rows x 5 columns]"
            ],
            "text/html": [
              "\n",
              "  <div id=\"df-8a619bcd-aa38-4e04-a270-4229ffe91478\">\n",
              "    <div class=\"colab-df-container\">\n",
              "      <div>\n",
              "<style scoped>\n",
              "    .dataframe tbody tr th:only-of-type {\n",
              "        vertical-align: middle;\n",
              "    }\n",
              "\n",
              "    .dataframe tbody tr th {\n",
              "        vertical-align: top;\n",
              "    }\n",
              "\n",
              "    .dataframe thead th {\n",
              "        text-align: right;\n",
              "    }\n",
              "</style>\n",
              "<table border=\"1\" class=\"dataframe\">\n",
              "  <thead>\n",
              "    <tr style=\"text-align: right;\">\n",
              "      <th></th>\n",
              "      <th>index</th>\n",
              "      <th>Orders</th>\n",
              "      <th>retail_price</th>\n",
              "      <th>discounted_price</th>\n",
              "      <th>brand_revenue</th>\n",
              "    </tr>\n",
              "  </thead>\n",
              "  <tbody>\n",
              "    <tr>\n",
              "      <th>0</th>\n",
              "      <td>1OAK</td>\n",
              "      <td>2</td>\n",
              "      <td>1698</td>\n",
              "      <td>1274</td>\n",
              "      <td>1015.40</td>\n",
              "    </tr>\n",
              "    <tr>\n",
              "      <th>1</th>\n",
              "      <td>3A AUTOCARE</td>\n",
              "      <td>41</td>\n",
              "      <td>107059</td>\n",
              "      <td>74134</td>\n",
              "      <td>55647.90</td>\n",
              "    </tr>\n",
              "    <tr>\n",
              "      <th>2</th>\n",
              "      <td>3D Mat</td>\n",
              "      <td>1</td>\n",
              "      <td>7250</td>\n",
              "      <td>6999</td>\n",
              "      <td>5249.25</td>\n",
              "    </tr>\n",
              "    <tr>\n",
              "      <th>3</th>\n",
              "      <td>3kFactory</td>\n",
              "      <td>1</td>\n",
              "      <td>399</td>\n",
              "      <td>174</td>\n",
              "      <td>156.60</td>\n",
              "    </tr>\n",
              "    <tr>\n",
              "      <th>4</th>\n",
              "      <td>4D</td>\n",
              "      <td>5</td>\n",
              "      <td>17500</td>\n",
              "      <td>7948</td>\n",
              "      <td>5961.00</td>\n",
              "    </tr>\n",
              "    <tr>\n",
              "      <th>...</th>\n",
              "      <td>...</td>\n",
              "      <td>...</td>\n",
              "      <td>...</td>\n",
              "      <td>...</td>\n",
              "      <td>...</td>\n",
              "    </tr>\n",
              "    <tr>\n",
              "      <th>2566</th>\n",
              "      <td>youniqueshop</td>\n",
              "      <td>1</td>\n",
              "      <td>810</td>\n",
              "      <td>640</td>\n",
              "      <td>480.00</td>\n",
              "    </tr>\n",
              "    <tr>\n",
              "      <th>2567</th>\n",
              "      <td>zDelhi.com</td>\n",
              "      <td>1</td>\n",
              "      <td>4499</td>\n",
              "      <td>3999</td>\n",
              "      <td>2999.25</td>\n",
              "    </tr>\n",
              "    <tr>\n",
              "      <th>2568</th>\n",
              "      <td>zaidis</td>\n",
              "      <td>1</td>\n",
              "      <td>150</td>\n",
              "      <td>129</td>\n",
              "      <td>116.10</td>\n",
              "    </tr>\n",
              "    <tr>\n",
              "      <th>2569</th>\n",
              "      <td>zasmina</td>\n",
              "      <td>2</td>\n",
              "      <td>1400</td>\n",
              "      <td>639</td>\n",
              "      <td>575.10</td>\n",
              "    </tr>\n",
              "    <tr>\n",
              "      <th>2570</th>\n",
              "      <td>Tarkan</td>\n",
              "      <td>1</td>\n",
              "      <td>1999</td>\n",
              "      <td>349</td>\n",
              "      <td>314.10</td>\n",
              "    </tr>\n",
              "  </tbody>\n",
              "</table>\n",
              "<p>2571 rows × 5 columns</p>\n",
              "</div>\n",
              "      <button class=\"colab-df-convert\" onclick=\"convertToInteractive('df-8a619bcd-aa38-4e04-a270-4229ffe91478')\"\n",
              "              title=\"Convert this dataframe to an interactive table.\"\n",
              "              style=\"display:none;\">\n",
              "        \n",
              "  <svg xmlns=\"http://www.w3.org/2000/svg\" height=\"24px\"viewBox=\"0 0 24 24\"\n",
              "       width=\"24px\">\n",
              "    <path d=\"M0 0h24v24H0V0z\" fill=\"none\"/>\n",
              "    <path d=\"M18.56 5.44l.94 2.06.94-2.06 2.06-.94-2.06-.94-.94-2.06-.94 2.06-2.06.94zm-11 1L8.5 8.5l.94-2.06 2.06-.94-2.06-.94L8.5 2.5l-.94 2.06-2.06.94zm10 10l.94 2.06.94-2.06 2.06-.94-2.06-.94-.94-2.06-.94 2.06-2.06.94z\"/><path d=\"M17.41 7.96l-1.37-1.37c-.4-.4-.92-.59-1.43-.59-.52 0-1.04.2-1.43.59L10.3 9.45l-7.72 7.72c-.78.78-.78 2.05 0 2.83L4 21.41c.39.39.9.59 1.41.59.51 0 1.02-.2 1.41-.59l7.78-7.78 2.81-2.81c.8-.78.8-2.07 0-2.86zM5.41 20L4 18.59l7.72-7.72 1.47 1.35L5.41 20z\"/>\n",
              "  </svg>\n",
              "      </button>\n",
              "      \n",
              "  <style>\n",
              "    .colab-df-container {\n",
              "      display:flex;\n",
              "      flex-wrap:wrap;\n",
              "      gap: 12px;\n",
              "    }\n",
              "\n",
              "    .colab-df-convert {\n",
              "      background-color: #E8F0FE;\n",
              "      border: none;\n",
              "      border-radius: 50%;\n",
              "      cursor: pointer;\n",
              "      display: none;\n",
              "      fill: #1967D2;\n",
              "      height: 32px;\n",
              "      padding: 0 0 0 0;\n",
              "      width: 32px;\n",
              "    }\n",
              "\n",
              "    .colab-df-convert:hover {\n",
              "      background-color: #E2EBFA;\n",
              "      box-shadow: 0px 1px 2px rgba(60, 64, 67, 0.3), 0px 1px 3px 1px rgba(60, 64, 67, 0.15);\n",
              "      fill: #174EA6;\n",
              "    }\n",
              "\n",
              "    [theme=dark] .colab-df-convert {\n",
              "      background-color: #3B4455;\n",
              "      fill: #D2E3FC;\n",
              "    }\n",
              "\n",
              "    [theme=dark] .colab-df-convert:hover {\n",
              "      background-color: #434B5C;\n",
              "      box-shadow: 0px 1px 3px 1px rgba(0, 0, 0, 0.15);\n",
              "      filter: drop-shadow(0px 1px 2px rgba(0, 0, 0, 0.3));\n",
              "      fill: #FFFFFF;\n",
              "    }\n",
              "  </style>\n",
              "\n",
              "      <script>\n",
              "        const buttonEl =\n",
              "          document.querySelector('#df-8a619bcd-aa38-4e04-a270-4229ffe91478 button.colab-df-convert');\n",
              "        buttonEl.style.display =\n",
              "          google.colab.kernel.accessAllowed ? 'block' : 'none';\n",
              "\n",
              "        async function convertToInteractive(key) {\n",
              "          const element = document.querySelector('#df-8a619bcd-aa38-4e04-a270-4229ffe91478');\n",
              "          const dataTable =\n",
              "            await google.colab.kernel.invokeFunction('convertToInteractive',\n",
              "                                                     [key], {});\n",
              "          if (!dataTable) return;\n",
              "\n",
              "          const docLinkHtml = 'Like what you see? Visit the ' +\n",
              "            '<a target=\"_blank\" href=https://colab.research.google.com/notebooks/data_table.ipynb>data table notebook</a>'\n",
              "            + ' to learn more about interactive tables.';\n",
              "          element.innerHTML = '';\n",
              "          dataTable['output_type'] = 'display_data';\n",
              "          await google.colab.output.renderOutput(dataTable, element);\n",
              "          const docLink = document.createElement('div');\n",
              "          docLink.innerHTML = docLinkHtml;\n",
              "          element.appendChild(docLink);\n",
              "        }\n",
              "      </script>\n",
              "    </div>\n",
              "  </div>\n",
              "  "
            ]
          },
          "metadata": {},
          "execution_count": 18
        }
      ]
    },
    {
      "cell_type": "code",
      "source": [
        "sns.pairplot(data=Brand_Data[['Orders','retail_price','discounted_price','brand_revenue']])"
      ],
      "metadata": {
        "colab": {
          "base_uri": "https://localhost:8080/",
          "height": 743
        },
        "id": "gdBFuwPLOC7L",
        "outputId": "fef410cb-db74-4c15-e186-cd876ea1d334"
      },
      "id": "gdBFuwPLOC7L",
      "execution_count": 20,
      "outputs": [
        {
          "output_type": "execute_result",
          "data": {
            "text/plain": [
              "<seaborn.axisgrid.PairGrid at 0x7fed3abae9d0>"
            ]
          },
          "metadata": {},
          "execution_count": 20
        },
        {
          "output_type": "display_data",
          "data": {
            "text/plain": [
              "<Figure size 720x720 with 20 Axes>"
            ],
            "image/png": "[encoded data removed]"
          },
          "metadata": {
            "needs_background": "light"
          }
        }
      ]
    },
    {
      "cell_type": "markdown",
      "id": "ecec83f4",
      "metadata": {
        "id": "ecec83f4"
      },
      "source": [
        "<font color='blue'>\n",
        "    <font size = 5>\n",
        "    The E-Commerce company operate in multiple regions. It is important to understand its performance in each region.\n",
        "    </font>"
      ]
    },
    {
      "cell_type": "markdown",
      "id": "dd09b8aa",
      "metadata": {
        "id": "dd09b8aa"
      },
      "source": [
        "## Q 9.Compare performance regionwise\n",
        "\n",
        "## a)\tDraw a lineplot for the monthly Revenue of E-Commerce Company for each region separately.  (4 marks) \n",
        "\n",
        "## b)\tIdentify the best and the worst performing months for each region. (2 marks)\n",
        "\n",
        "#### Note: Only those days with actual orders(Order_Date) placed are present in the dataset. Assuming there were no orders on other days"
      ]
    },
    {
      "cell_type": "markdown",
      "id": "e6d64aea",
      "metadata": {
        "id": "e6d64aea"
      },
      "source": [
        "### Ans 9 a)"
      ]
    },
    {
      "cell_type": "code",
      "execution_count": 21,
      "id": "d9a4f534",
      "metadata": {
        "colab": {
          "base_uri": "https://localhost:8080/",
          "height": 1000
        },
        "id": "d9a4f534",
        "outputId": "449ff1e8-a399-460d-98fa-83bd0246cb3c"
      },
      "outputs": [
        {
          "output_type": "display_data",
          "data": {
            "text/plain": [
              "<Figure size 1800x1224 with 1 Axes>"
            ],
            "image/png": "[encoded data removed]"
          },
          "metadata": {
            "needs_background": "light"
          }
        }
      ],
      "source": [
        "ECom_Data['Order_Date']=pd.to_datetime(ECom_Data['Order_Date'],dayfirst=True)\n",
        "ECom_Data['Month']=ECom_Data['Order_Date'].dt.month\n",
        "Month_Data=ECom_Data.groupby(['Region','Month'])['discounted_price'].sum()\n",
        "Month_Data=pd.DataFrame({'Revenue':Month_Data})\n",
        "Month_Data.reset_index(inplace=True)\n",
        "plt.figure(figsize=(25,17))\n",
        "plt.title('Monthly Revenue')\n",
        "sns.lineplot(data=Month_Data,x='Month',y='Revenue',hue='Region',style='Region');"
      ]
    },
    {
      "cell_type": "markdown",
      "id": "dac59dc4",
      "metadata": {
        "id": "dac59dc4"
      },
      "source": [
        "### Ans 9 b)"
      ]
    },
    {
      "cell_type": "code",
      "execution_count": 26,
      "id": "9f569635",
      "metadata": {
        "colab": {
          "base_uri": "https://localhost:8080/",
          "height": 272
        },
        "id": "9f569635",
        "outputId": "8ea6343b-d158-4920-afe3-5f21183d2db6"
      },
      "outputs": [
        {
          "output_type": "display_data",
          "data": {
            "text/plain": [
              "<Figure size 3600x504 with 1 Axes>"
            ],
            "image/png": "[encoded data removed]"
          },
          "metadata": {
            "needs_background": "light"
          }
        }
      ],
      "source": [
        "plt.figure(figsize=(50,7))\n",
        "plt.ylim(974,100000)\n",
        "sns.barplot(data=Month_Data,x='Month',y='Revenue',hue='Region');"
      ]
    },
    {
      "cell_type": "code",
      "source": [
        "ECom_Data.groupby(['Region'])['Month'].unique()"
      ],
      "metadata": {
        "colab": {
          "base_uri": "https://localhost:8080/"
        },
        "id": "ffA18e7KRVuV",
        "outputId": "79c799fd-5f59-4f46-e183-e7bacee4606c"
      },
      "id": "ffA18e7KRVuV",
      "execution_count": 27,
      "outputs": [
        {
          "output_type": "execute_result",
          "data": {
            "text/plain": [
              "Region\n",
              "East     [10, 9, 12, 8, 7, 6, 3, 4, 1, 5, 2]\n",
              "North           [8, 7, 6, 5, 12, 4, 1, 3, 2]\n",
              "South                 [12, 6, 4, 5, 2, 1, 3]\n",
              "West        [10, 8, 7, 6, 12, 3, 4, 1, 5, 2]\n",
              "Name: Month, dtype: object"
            ]
          },
          "metadata": {},
          "execution_count": 27
        }
      ]
    },
    {
      "cell_type": "markdown",
      "id": "dcb8d39f",
      "metadata": {
        "id": "dcb8d39f"
      },
      "source": [
        "<font color='blue'>\n",
        "    <font size = 5>\n",
        "    Congratulations! You have learnt how to approach a complex data and extract information out of it. \n",
        "    </font>"
      ]
    }
  ],
  "metadata": {
    "kernelspec": {
      "display_name": "Python 3",
      "language": "python",
      "name": "python3"
    },
    "language_info": {
      "codemirror_mode": {
        "name": "ipython",
        "version": 3
      },
      "file_extension": ".py",
      "mimetype": "text/x-python",
      "name": "python",
      "nbconvert_exporter": "python",
      "pygments_lexer": "ipython3",
      "version": "3.8.8"
    },
    "colab": {
      "provenance": []
    }
  },
  "nbformat": 4,
  "nbformat_minor": 5
}